{
 "cells": [
  {
   "cell_type": "code",
   "execution_count": 4,
   "metadata": {},
   "outputs": [
    {
     "name": "stdout",
     "output_type": "stream",
     "text": [
      "Enter number of letters:\n",
      "2\n",
      "Enter number of numbers:\n",
      "2\n",
      "Enter number of symbols:\n",
      "2\n",
      "you can use this Ch76&^ as your password\n"
     ]
    }
   ],
   "source": [
    "#Creating random password\n",
    "\n",
    "import random\n",
    "\n",
    "password=[]\n",
    "\n",
    "letter = ['A','B','C','D','E','F','G','H','I','J','K','L','M','N','O','P','Q','R','S','T','U','V','W','X','Y','Z']\n",
    "for i in range(0,26):\n",
    "    letter.append(letter[i].lower())\n",
    "                   \n",
    "number = [1,2,3,4,5,6,7,8,9]\n",
    "symbol = ['!','@','#','$','%','^','&','*','(',')','_']\n",
    "\n",
    "no_let = input(\"Enter number of letters:\\n\")\n",
    "no_num = input(\"Enter number of numbers:\\n\")\n",
    "no_sym = input(\"Enter number of symbols:\\n\")\n",
    "\n",
    "for i in range(0,int(no_let)):\n",
    "    password.append(random.choice(letter))\n",
    "\n",
    "for i in range(0,int(no_num)):\n",
    "    password.append(random.choice(number))\n",
    "    \n",
    "for i in range(0,int(no_sym)):\n",
    "    password.append(random.choice(symbol))\n",
    "\n",
    "pwd =\"\"\n",
    "for i in password:\n",
    "    pwd+=str(i)\n",
    "    \n",
    "print(f\"you can use  { pwd} as your password\")"
   ]
  },
  {
   "cell_type": "code",
   "execution_count": null,
   "metadata": {},
   "outputs": [],
   "source": []
  }
 ],
 "metadata": {
  "kernelspec": {
   "display_name": "Python 3",
   "language": "python",
   "name": "python3"
  },
  "language_info": {
   "codemirror_mode": {
    "name": "ipython",
    "version": 3
   },
   "file_extension": ".py",
   "mimetype": "text/x-python",
   "name": "python",
   "nbconvert_exporter": "python",
   "pygments_lexer": "ipython3",
   "version": "3.7.3"
  }
 },
 "nbformat": 4,
 "nbformat_minor": 2
}
